{
 "cells": [
  {
   "cell_type": "code",
   "execution_count": 1,
   "metadata": {},
   "outputs": [
    {
     "name": "stdout",
     "output_type": "stream",
     "text": [
      "<class 'outlines.models.openai.OpenAI'>\n"
     ]
    }
   ],
   "source": [
    "from outlines import models\n",
    "\n",
    "model = models.openai(\"gpt-3.5-turbo\")\n",
    "model = models.openai(\"gpt-4\")\n",
    "\n",
    "print(type(model))\n",
    "# OpenAI"
   ]
  },
  {
   "cell_type": "code",
   "execution_count": 2,
   "metadata": {},
   "outputs": [],
   "source": [
    "model = models.openai(\"gpt-4\", system_prompt=\"You are a useful assistant\")"
   ]
  },
  {
   "cell_type": "code",
   "execution_count": 3,
   "metadata": {},
   "outputs": [
    {
     "name": "stdout",
     "output_type": "stream",
     "text": [
      "0\n",
      "0\n"
     ]
    }
   ],
   "source": [
    "print(model.prompt_tokens)\n",
    "# 0\n",
    "\n",
    "print(model.completion_tokens)\n",
    "# 0"
   ]
  },
  {
   "cell_type": "code",
   "execution_count": 23,
   "metadata": {},
   "outputs": [],
   "source": [
    "from outlines.models.openai import OpenAIConfig\n",
    "from outlines import models\n",
    "\n",
    "config = OpenAIConfig(\n",
    "    presence_penalty=1.,\n",
    "    frequency_penalty=1.,\n",
    "    top_p=.95,\n",
    "    temperature=2.0,\n",
    "    seed=0,\n",
    ")\n",
    "model = models.openai(\"gpt-4\", config=config)"
   ]
  },
  {
   "cell_type": "code",
   "execution_count": 29,
   "metadata": {},
   "outputs": [
    {
     "data": {
      "text/plain": [
       "'chronic hip pain'"
      ]
     },
     "execution_count": 29,
     "metadata": {},
     "output_type": "execute_result"
    }
   ],
   "source": [
    "SYSTEM_PROMPT = \"\"\"Select randomly one of the following conditions:\n",
    "1. depression\n",
    "2. postural orthostatic tachycardia syndrome\n",
    "3. chronic hip pain\n",
    "4. chronic migraine syndrome\n",
    "5. lupus\n",
    "\n",
    "Below is a list of things you selected already. Select from the list evenly\"\"\"\n",
    "choices = [\"depression\", \"postural orthostatic tachycardia syndrome\", \"chronic hip pain\", \"chronic migraine syndrome\", \"lupus\"]\n",
    "\n",
    "model.generate_choice(SYSTEM_PROMPT, choices=choices)"
   ]
  },
  {
   "cell_type": "code",
   "execution_count": null,
   "metadata": {},
   "outputs": [],
   "source": []
  }
 ],
 "metadata": {
  "kernelspec": {
   "display_name": "conversation-clustering-nr77kpzU-py3.11",
   "language": "python",
   "name": "python3"
  },
  "language_info": {
   "codemirror_mode": {
    "name": "ipython",
    "version": 3
   },
   "file_extension": ".py",
   "mimetype": "text/x-python",
   "name": "python",
   "nbconvert_exporter": "python",
   "pygments_lexer": "ipython3",
   "version": "3.11.4"
  }
 },
 "nbformat": 4,
 "nbformat_minor": 2
}
